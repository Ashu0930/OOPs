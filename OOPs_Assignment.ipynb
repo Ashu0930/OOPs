{
  "nbformat": 4,
  "nbformat_minor": 0,
  "metadata": {
    "colab": {
      "provenance": []
    },
    "kernelspec": {
      "name": "python3",
      "display_name": "Python 3"
    },
    "language_info": {
      "name": "python"
    }
  },
  "cells": [
    {
      "cell_type": "markdown",
      "source": [
        "# OOPs Assignment\n"
      ],
      "metadata": {
        "id": "kOtRORkAJJ_P"
      }
    },
    {
      "cell_type": "markdown",
      "source": [
        "# 1. What is Object-Oriented Programming (OOP)?"
      ],
      "metadata": {
        "id": "TV7ui_h8Jdy1"
      }
    },
    {
      "cell_type": "markdown",
      "source": [
        "> Object-Oriented Programming (OOP) is a programming paradigm that focuses on using objects to design and build software applications. It enhances code organization, reusability, and scalability by structuring programs around objects rather than functions or logic."
      ],
      "metadata": {
        "id": "yxtLZXTmKVUX"
      }
    },
    {
      "cell_type": "markdown",
      "source": [
        "# 2.  What is a class in OOP?"
      ],
      "metadata": {
        "id": "lX3W6KP6NANP"
      }
    },
    {
      "cell_type": "markdown",
      "source": [
        ">  A class is a blueprint or template for creating objects in Object-Oriented Programming (OOP). It defines attributes (data members) and methods (functions) that describe the behavior of an object.\n",
        "\n",
        "Key Points about Classes:\n",
        "- A class does not store data but serves as a model for creating objects.\n",
        "- Objects are instances of a class with unique values for their attributes.\n",
        "- Classes help in organizing and structuring code efficiently."
      ],
      "metadata": {
        "id": "O4nn0l4sNE88"
      }
    },
    {
      "cell_type": "markdown",
      "source": [
        "# 3. What is an object in OOP?\n"
      ],
      "metadata": {
        "id": "dUSYeJyCNgA1"
      }
    },
    {
      "cell_type": "markdown",
      "source": [
        "> An object is an instance of a class that contains attributes (data) and methods (behavior) defined by its class.\n",
        "\n",
        "Key Characteristics of Objects\n",
        "- Identity -  Every object has a unique identity (memory location).\n",
        "- State - Objects store data in variables (e.g., name, age, color).\n",
        "- Behavior -  Objects perform actions through functions defined in their class."
      ],
      "metadata": {
        "id": "rQITYGEtSDoC"
      }
    },
    {
      "cell_type": "markdown",
      "source": [
        "# 4. What is the difference between abstraction and encapsulation?"
      ],
      "metadata": {
        "id": "PSXUtjnDTPuy"
      }
    },
    {
      "cell_type": "markdown",
      "source": [
        "> Abstraction is a process of hiding the implementation details of a system from the user, and only the functional details will be available to the user end. Encapsulation is a method of wrapping up the data and code acting on the data into a single unit.\n",
        "\n",
        "\n",
        "Abstraction :\n",
        "- It is the process of gaining information.\n",
        "- The problems in this technique are solved at the interface level.\n",
        "- It helps hide the unwanted details/information.\n",
        "- It can be implemented using abstract classes and interfaces.\n",
        "- The complexities of the implementation are hidden using interface and abstract class.\n",
        "- Abstraction can be performed using objects that are encapsulated within a single module.\n",
        "\n",
        "Encapsulation :  \n",
        "\n",
        "- It is a method that helps wrap up data into a single module.\n",
        "- Problems in encapsulation are solved at the implementation level.\n",
        "- It helps hide data using a single entity, or using a unit with the help of method that helps protect the information.\n",
        "- It can be implemented using access modifiers like public, private and protected.\n",
        "- The data is hidden using methods such as getters and setters.\n",
        "- Objects in encapsulation don't need to be in abstraction."
      ],
      "metadata": {
        "id": "GnKCBDIWTWw2"
      }
    },
    {
      "cell_type": "markdown",
      "source": [
        "# 5.  What are dunder methods in Python?"
      ],
      "metadata": {
        "id": "0eDwx1RUXZ7r"
      }
    },
    {
      "cell_type": "markdown",
      "source": [
        "> Dunder methods are the methods starting and ending with double underscores ‘__’. They are defined by built-in classes in Python and commonly used for operator overloading.\n",
        "\n",
        "These are also called \"magic methods\" because they allow objects to interact with built-in Python operations like initialization, string conversion, arithmetic operations, and comparisons."
      ],
      "metadata": {
        "id": "IorVO8IBa72i"
      }
    },
    {
      "cell_type": "markdown",
      "source": [
        "# 6.  Explain the concept of inheritance in OOP."
      ],
      "metadata": {
        "id": "QN_ZLpYvbroC"
      }
    },
    {
      "cell_type": "markdown",
      "source": [
        "> Inheritance is an OOP feature that allows one class (child or subclass) to acquire the properties and methods of another class (parent or superclass). It promotes code reusability, reduces redundancy, and establishes a hierarchical relationship between classes.\n",
        "\n",
        "Types of Inheritance:\n",
        "\n",
        "- Single Inheritance\n",
        "- Multiple Inheritance\n",
        "- Multilevel Inheritance\n",
        "- Hierarchical Inheritance\n",
        "- Hybrid Inheritance"
      ],
      "metadata": {
        "id": "UQ-NuFbkb7-Y"
      }
    },
    {
      "cell_type": "markdown",
      "source": [
        " # 7. What is polymorphism in OOP?"
      ],
      "metadata": {
        "id": "OKHvS-uCcyGQ"
      }
    },
    {
      "cell_type": "markdown",
      "source": [
        "> Polymorphism is an OOP concept that allows a single interface to represent multiple implementations. It enables objects of different classes to be treated as if they belong to a common class, improving flexibility and code reusability."
      ],
      "metadata": {
        "id": "xeSQwOpAc3-D"
      }
    },
    {
      "cell_type": "markdown",
      "source": [
        "# 8.  How is encapsulation achieved in Python?"
      ],
      "metadata": {
        "id": "XySEq3z3dsYv"
      }
    },
    {
      "cell_type": "markdown",
      "source": [
        "> Encapsulation is an OOP principle that restricts direct access to an object's data and allows controlled modification through methods. It bundles data (variables) and methods (functions) together into a single unit (class)."
      ],
      "metadata": {
        "id": "nFwmmtuZdzjf"
      }
    },
    {
      "cell_type": "markdown",
      "source": [
        "# 9. What is a constructor in Python?"
      ],
      "metadata": {
        "id": "F3X7h6RceFjr"
      }
    },
    {
      "cell_type": "markdown",
      "source": [
        "> A constructor in Python is a special method used to initialize an object's attributes when it is created. In Python, the constructor is defined using the __init__ method.\n",
        "\n",
        "- The constructor is automatically called when a new object is created.\n",
        "- It initializes instance variables (attributes).\n",
        "\n",
        "Syntax:\n",
        "                \n",
        "                class ClassName:  \n",
        "                    def __init__(self, parameters):  "
      ],
      "metadata": {
        "id": "lYkp2SYdeLcR"
      }
    },
    {
      "cell_type": "markdown",
      "source": [
        "# 10. What are class and static methods in Python?"
      ],
      "metadata": {
        "id": "kwMNMbMcfArH"
      }
    },
    {
      "cell_type": "markdown",
      "source": [
        "> Class Method\n",
        "\n",
        "- A class method is a method that belongs to the class rather than an instance.\n",
        "- It is defined using the @classmethod decorator.\n",
        "- The first parameter is cls, which refers to the class itself, not an instance.\n",
        "- Can modify class-level attributes but cannot access instance-specific attributes.\n",
        "\n",
        "Static Method\n",
        "- A static method is a method that does not depend on instance (self) or class (cls).\n",
        "- It is defined using the @staticmethod decorator.\n",
        "- Used when a method does not need to access or modify instance or class attributes."
      ],
      "metadata": {
        "id": "qWIIdC4SfH0u"
      }
    },
    {
      "cell_type": "markdown",
      "source": [
        "# 11. What is method overloading in Python?"
      ],
      "metadata": {
        "id": "M6U7Ke6FjYMq"
      }
    },
    {
      "cell_type": "markdown",
      "source": [
        "> Method overloading is a feature of object-oriented programming where a class can have multiple methods with the same name but different parameters. To overload method, we must change the number of parameters or the type of parameters, or both."
      ],
      "metadata": {
        "id": "s3TOxba9jcb0"
      }
    },
    {
      "cell_type": "markdown",
      "source": [
        "# 12. What is method overriding in OOP?"
      ],
      "metadata": {
        "id": "Sk22KrsCkByY"
      }
    },
    {
      "cell_type": "markdown",
      "source": [
        "> The Python method overriding refers to defining a method in a subclass with the same name as a method in its superclass. In this case, the Python interpreter determines which method to call at runtime based on the actual object being referred to."
      ],
      "metadata": {
        "id": "WZCcxwRekD6A"
      }
    },
    {
      "cell_type": "markdown",
      "source": [
        "# 13.  What is a property decorator in Python?"
      ],
      "metadata": {
        "id": "0hHgVCpalEUt"
      }
    },
    {
      "cell_type": "markdown",
      "source": [
        "> A property decorator in Python (@property) is used to define a method that can be accessed like an attribute, allowing controlled access to class attributes while maintaining encapsulation. It is commonly used to create getter, setter, and deleter methods for attributes."
      ],
      "metadata": {
        "id": "WITZZTrrlFOs"
      }
    },
    {
      "cell_type": "markdown",
      "source": [
        "# 14.  Why is polymorphism important in OOP?"
      ],
      "metadata": {
        "id": "5qr4-SwwlfNU"
      }
    },
    {
      "cell_type": "markdown",
      "source": [
        "-> Polymorphism is a fundamental concept in Object-Oriented Programming (OOP) that allows objects of different classes to be treated as objects of a common superclass. It enhances code flexibility, maintainability, and scalability by enabling a single interface to represent multiple underlying data types."
      ],
      "metadata": {
        "id": "ZxEkgJgOlj9W"
      }
    },
    {
      "cell_type": "markdown",
      "source": [
        "# 15. What is an abstract class in Python?"
      ],
      "metadata": {
        "id": "cR85zEHLmDQ8"
      }
    },
    {
      "cell_type": "markdown",
      "source": [
        "> An abstract class in Python is a class that cannot be instantiated directly and serves as a blueprint for other classes. It defines methods that must be implemented in derived classes, ensuring a consistent interface across multiple implementations.\n",
        "\n",
        "We use abstract class because:\n",
        "\n",
        "- Encapsulation of Common Behavior - Provides a common structure for all subclasses.\n",
        "- Forces Implementation - Ensures that all child classes implement required methods.\n",
        "- Encourages Code Consistency - Standardizes method names and behaviors across related classes.\n"
      ],
      "metadata": {
        "id": "dwZr8A3vmIyG"
      }
    },
    {
      "cell_type": "markdown",
      "source": [
        "# 16. What are the advantages of OOP?"
      ],
      "metadata": {
        "id": "2Uq7E558msIQ"
      }
    },
    {
      "cell_type": "markdown",
      "source": [
        " > Object-Oriented Programming (OOP) provides a structured and modular approach to programming by organizing code into objects. There are some advantages\n",
        "\n",
        "- Modularity: OOP divides complex systems into smaller components, making the codebase easier to comprehend, create, and maintain.\n",
        "- Reusability: Inheritance allows code reuse, improving code quality and saving time.\n",
        "- Encapsulation: Protects data integrity and privacy by restricting direct access and allowing controlled access through methods.\n",
        "- Flexibility and Scalability: OOP enables easy addition and modification of features without impacting the entire codebase.\n",
        "- Code Organization: OOP promotes a structured approach, enhancing collaboration and code readability.\n",
        "- Code Maintenance: Changes and bug fixes can be made to specific objects or classes without affecting other parts of the system, reducing errors and improving debugging.\n",
        "- Code Reusability: OOP encourages the development of reusable code elements, saving time and improving system reliability.\n",
        "- Better Problem Solving: OOP models real-world systems, allowing developers to create intuitive solutions that closely mimic real-world circumstances."
      ],
      "metadata": {
        "id": "W1vW02cymuSj"
      }
    },
    {
      "cell_type": "markdown",
      "source": [
        "# 17. What is the difference between a class variable and an instance variable?"
      ],
      "metadata": {
        "id": "fgO4u4U7n8YH"
      }
    },
    {
      "cell_type": "markdown",
      "source": [
        "> Class Variables\n",
        "\n",
        "- Definition: Class variables are defined within the class but outside of any class methods.\n",
        "- Scope: Changes made to the class variable affect all instances.\n",
        "- Initialization: Class variables can be initialized either inside the class definition or outside the class definition.\n",
        "- Access: Class variables are accessed using the class name, followed by the variable name.\n",
        "- Usage: Class variables are useful for storing data that is shared among all instances of a class, such as constants or default values.\n",
        "\n",
        "\n",
        "Instance Variables\n",
        "- Definition:Instance variables are defined within class methods, typically the constructor.\n",
        "- Scope: Changes made to the instance variable does not affect all instances.\n",
        "- Initialization: Instance variables are typically initialized in the constructor of the class.\n",
        "- Access: Instance variables are accessed using the instance name, followed by the variable name.\n",
        "- Usage: Instance variables are used to store data that is unique to each instance of a class, such as object properties.\n"
      ],
      "metadata": {
        "id": "An-So3MZoQfv"
      }
    },
    {
      "cell_type": "markdown",
      "source": [
        "# 18. What is multiple inheritance in Python?"
      ],
      "metadata": {
        "id": "hlH7IFzoqAig"
      }
    },
    {
      "cell_type": "markdown",
      "source": [
        "> When a class is derived from more than one base class it is called multiple Inheritance. The derived class inherits all the features of the base case."
      ],
      "metadata": {
        "id": "w_Tdv4UMqjcJ"
      }
    },
    {
      "cell_type": "markdown",
      "source": [
        " # 19.  Explain the purpose of ‘’_ _str_ _’ and ‘_ _repr_ _’ ‘ methods in Python."
      ],
      "metadata": {
        "id": "Q9LyW3uuq3JG"
      }
    },
    {
      "cell_type": "markdown",
      "source": [
        "> Both _ _str_ _ and _ _repr_ _ are special (dunder) methods in Python used for string representation of objects. However, they serve different purposes.\n",
        "\n",
        "- The _ _str_ _ () method in Python is used to create a string representation of an object that is readable and user-friendly. This method is invoked when str() or print() functions are called on an object.\n",
        "\n",
        "- The _ _repr_ _ () method is used to create a string representation of an object that is more detailed and unambiguous. This method is intended for developers and is used when repr() function is called, or when the object is inspected in the interactive interpreter."
      ],
      "metadata": {
        "id": "7GccX7O8q8ac"
      }
    },
    {
      "cell_type": "markdown",
      "source": [
        "# 20. What is the significance of the ‘super()’ function in Python?"
      ],
      "metadata": {
        "id": "dTFcAciUsFqM"
      }
    },
    {
      "cell_type": "markdown",
      "source": [
        "> The super() function is used to give access to methods and properties of a parent or sibling class. It returns an object that represents the parent class."
      ],
      "metadata": {
        "id": "G0QznXJusa6I"
      }
    },
    {
      "cell_type": "markdown",
      "source": [
        "# 21. What is the significance of the (_ del_) method in Python?"
      ],
      "metadata": {
        "id": "O98XA3zoskVX"
      }
    },
    {
      "cell_type": "markdown",
      "source": [
        "> The _ _del_ _ method is a special method in Python, also known as the destructor. It is called when an object is about to be destroyed, typically when it goes out of scope or no longer has references.\n",
        "\n",
        "Purpose of _ _del_ _\n",
        "- Used for cleaning up resources (e.g., closing files, releasing memory, disconnecting from a database).\n",
        "- Called automatically when an object's reference count drops to zero"
      ],
      "metadata": {
        "id": "QC_yAaXLsozQ"
      }
    },
    {
      "cell_type": "markdown",
      "source": [
        "# 22. What is the difference between @staticmethod and @classmethod in Python?"
      ],
      "metadata": {
        "id": "prmDTy1KtghV"
      }
    },
    {
      "cell_type": "markdown",
      "source": [
        "> Both @staticmethod and @classmethod are decorators in Python that modify how methods behave in a class. However, they have distinct purposes and use cases.\n",
        "\n",
        "- @staticmethod (Independent Utility Function)\n",
        "  - Does NOT take cls or self as a parameter.\n",
        "  - Acts like a regular function inside a class but is logically related to the class.\n",
        "  - Can be called on an instance or the class itself.\n",
        "  - Cannot modify class or instance attributes.\n",
        "\n",
        "- @classmethod (Works with Class-Level Data)\n",
        "  - Takes cls as the first parameter, representing the class itself.\n",
        "  - Can modify class attributes or create new instances.\n",
        "  - Can be called on an instance or the class itself."
      ],
      "metadata": {
        "id": "yeg8PscTtmTR"
      }
    },
    {
      "cell_type": "markdown",
      "source": [
        "# 23.  How does polymorphism work in Python with inheritance?"
      ],
      "metadata": {
        "id": "5UmIWaKOuETH"
      }
    },
    {
      "cell_type": "markdown",
      "source": [
        "> Polymorphism allows objects of different classes to be treated as objects of a common superclass. In Python, this works through method overriding, where a child class provides a specific implementation of a method already defined in the parent class. Here is an example.\n",
        "\n",
        "\n",
        "          class Animal:\n",
        "              def speak(self):\n",
        "                  return \"Animal makes a sound\"\n",
        "\n",
        "          class Dog(Animal):\n",
        "              def speak(self):\n",
        "                  return \"Woof!\"\n",
        "\n",
        "          class Cat(Animal):\n",
        "              def speak(self):\n",
        "                  return \"Meow!\"\n",
        "\n",
        "          # Using polymorphism\n",
        "          animals = [Dog(), Cat(), Animal()]\n",
        "\n",
        "              for animal in animals:\n",
        "                  print(animal.speak())  # Calls the overridden method in each subclass\n"
      ],
      "metadata": {
        "id": "u1I9lupyW4jN"
      }
    },
    {
      "cell_type": "markdown",
      "source": [
        "# 24.  What is method chaining in Python OOP?"
      ],
      "metadata": {
        "id": "-DveMkznY5A8"
      }
    },
    {
      "cell_type": "markdown",
      "source": [
        "> Method chaining is a technique in Object-Oriented Programming (OOP) where multiple methods are called on the same object in a single line. This is possible when each method returns self, allowing subsequent method calls to be linked together."
      ],
      "metadata": {
        "id": "PgR_VsFnY8MM"
      }
    },
    {
      "cell_type": "markdown",
      "source": [
        "# 25.  What is the purpose of the _ call _ method in Python?"
      ],
      "metadata": {
        "id": "-t2-C5BUZQ4o"
      }
    },
    {
      "cell_type": "markdown",
      "source": [
        "> The _ call _ method allows an instance of a class to be called like a function. When an object has the _ call _ method defined, calling the object directly (obj()) invokes this method.\n",
        "\n",
        "Purpose of __call__\n",
        "- Makes objects behave like functions\n",
        "- Allows stateful function-like objects (e.g., counters, caching, event handlers)\n",
        "- Enhances flexibility in function-based programming\n"
      ],
      "metadata": {
        "id": "JUpL-VwkZVbs"
      }
    },
    {
      "cell_type": "markdown",
      "source": [
        "# Practical Questions\n",
        "\n"
      ],
      "metadata": {
        "id": "BGasfR0sZ6bL"
      }
    },
    {
      "cell_type": "markdown",
      "source": [
        "1.  Create a parent class Animal with a method speak() that prints a generic message. Create a child class Dog that overrides the speak() method to print \"Bark!\""
      ],
      "metadata": {
        "id": "ppVuFWFzaKRb"
      }
    },
    {
      "cell_type": "code",
      "source": [
        "class Animal:\n",
        "    def speak(self):\n",
        "        print(\"Animal makes a sound\")\n",
        "\n",
        "class Dog(Animal):\n",
        "    def speak(self):\n",
        "        print(\"Bark!\")\n",
        "\n",
        "# Creating objects\n",
        "animal = Animal()\n",
        "dog = Dog()\n",
        "\n",
        "# Calling the speak method\n",
        "animal.speak()\n",
        "dog.speak()"
      ],
      "metadata": {
        "colab": {
          "base_uri": "https://localhost:8080/"
        },
        "id": "uVoPuWygadL2",
        "outputId": "a6eb4d17-42d6-41e5-83ea-eefec1997db8"
      },
      "execution_count": 2,
      "outputs": [
        {
          "output_type": "stream",
          "name": "stdout",
          "text": [
            "Animal makes a sound\n",
            "Bark!\n"
          ]
        }
      ]
    },
    {
      "cell_type": "markdown",
      "source": [
        "# 2.  Write a program to create an abstract class Shape with a method area(). Derive classes Circle and Rectangle from it and implement the area() method in both"
      ],
      "metadata": {
        "id": "v1PWwW-gazkV"
      }
    },
    {
      "cell_type": "code",
      "source": [
        "from abc import ABC, abstractmethod\n",
        "\n",
        "class Shape(ABC):\n",
        "    @abstractmethod\n",
        "    def area(self):\n",
        "        pass\n",
        "\n",
        "class Circle(Shape):\n",
        "    def __init__(self, radius):\n",
        "        self.radius = radius\n",
        "\n",
        "    def area(self):\n",
        "        return 3.14 * self.radius ** 2  # Approximate π as 3.14\n",
        "\n",
        "class Rectangle(Shape):\n",
        "    def __init__(self, length, width):\n",
        "        self.length = length\n",
        "        self.width = width\n",
        "\n",
        "    def area(self):\n",
        "        return self.length * self.width\n",
        "\n",
        "# Creating objects\n",
        "circle = Circle(5)\n",
        "rectangle = Rectangle(4, 6)\n",
        "\n",
        "print(\"Circle Area:\", circle.area())\n",
        "print(\"Rectangle Area:\", rectangle.area())\n",
        "\n"
      ],
      "metadata": {
        "colab": {
          "base_uri": "https://localhost:8080/"
        },
        "id": "-aN8VYERa6wn",
        "outputId": "01cfbab9-9191-44ce-8005-ec6ed1996fc3"
      },
      "execution_count": 6,
      "outputs": [
        {
          "output_type": "stream",
          "name": "stdout",
          "text": [
            "Circle Area: 78.5\n",
            "Rectangle Area: 24\n"
          ]
        }
      ]
    },
    {
      "cell_type": "markdown",
      "source": [
        "# 3.  Implement a multi-level inheritance scenario where a class Vehicle has an attribute type. Derive a class Car and further derive a class ElectricCar that adds a battery attribute"
      ],
      "metadata": {
        "id": "xZa68LTub2vI"
      }
    },
    {
      "cell_type": "code",
      "source": [
        "# Base class\n",
        "class Vehicle:\n",
        "    def __init__(self, type):\n",
        "        self.type = type\n",
        "\n",
        "    def show_type(self):\n",
        "        print(f\"Vehicle Type: {self.type}\")\n",
        "\n",
        "class Car(Vehicle):\n",
        "    def __init__(self, type, brand):\n",
        "        super().__init__(type)  # Call Vehicle's constructor\n",
        "        self.brand = brand\n",
        "\n",
        "    def show_car(self):\n",
        "        print(f\"Car Brand: {self.brand}\")\n",
        "class ElectricCar(Car):\n",
        "    def __init__(self, type, brand, battery_capacity):\n",
        "        super().__init__(type, brand)  # Call Car's constructor\n",
        "        self.battery_capacity = battery_capacity\n",
        "\n",
        "    def show_battery(self):\n",
        "        print(f\"Battery Capacity: {self.battery_capacity} kWh\")\n",
        "\n",
        "# Creating an object of ElectricCar\n",
        "tesla = ElectricCar(\"Sedan\", \"Tesla\", 100)\n",
        "\n",
        "\n",
        "tesla.show_type()\n",
        "tesla.show_car()\n",
        "tesla.show_battery()\n"
      ],
      "metadata": {
        "colab": {
          "base_uri": "https://localhost:8080/"
        },
        "id": "XZ5aN0IOb6tU",
        "outputId": "977b6a9a-86df-4b99-8d88-b3c9156619e9"
      },
      "execution_count": 7,
      "outputs": [
        {
          "output_type": "stream",
          "name": "stdout",
          "text": [
            "Vehicle Type: Sedan\n",
            "Car Brand: Tesla\n",
            "Battery Capacity: 100 kWh\n"
          ]
        }
      ]
    },
    {
      "cell_type": "markdown",
      "source": [
        "# 4. Demonstrate polymorphism by creating a base class Bird with a method fly(). Create two derived classes Sparrow and Penguin that override the fly() method."
      ],
      "metadata": {
        "id": "wYKW5qhguIsw"
      }
    },
    {
      "cell_type": "code",
      "source": [
        "class Bird:\n",
        "    def fly(self):\n",
        "        print(\"Some birds can fly.\")\n",
        "\n",
        "class Sparrow(Bird):\n",
        "    def fly(self):\n",
        "        print(\"Sparrow flies high!\")\n",
        "\n",
        "class Penguin(Bird):\n",
        "    def fly(self):\n",
        "        print(\"Penguins cannot fly, they swim!\")\n",
        "\n",
        "# Creating objects\n",
        "sparrow = Sparrow()\n",
        "penguin = Penguin()\n",
        "\n",
        "# Calling the fly method\n",
        "sparrow.fly()\n",
        "penguin.fly()\n"
      ],
      "metadata": {
        "colab": {
          "base_uri": "https://localhost:8080/"
        },
        "id": "2Mu0W-toc1_J",
        "outputId": "93249585-1021-419f-e444-205be22e9e60"
      },
      "execution_count": 8,
      "outputs": [
        {
          "output_type": "stream",
          "name": "stdout",
          "text": [
            "Sparrow flies high!\n",
            "Penguins cannot fly, they swim!\n"
          ]
        }
      ]
    },
    {
      "cell_type": "markdown",
      "source": [
        "# 5. Write a program to demonstrate encapsulation by creating a class BankAccount with private attributes balance and methods to deposit, withdraw, and check balance"
      ],
      "metadata": {
        "id": "edtr0dOmc8sK"
      }
    },
    {
      "cell_type": "code",
      "source": [
        "class BankAccount:\n",
        "    def __init__(self, balance=0):\n",
        "        self.__balance = balance  # Private attribute\n",
        "\n",
        "    def deposit(self, amount):\n",
        "        if amount > 0:\n",
        "            self.__balance += amount\n",
        "            print(f\"Deposited: ${amount}\")\n",
        "        else:\n",
        "            print(\"Invalid deposit amount!\")\n",
        "\n",
        "    def withdraw(self, amount):\n",
        "        if 0 < amount <= self.__balance:\n",
        "            self.__balance -= amount\n",
        "            print(f\"Withdrawn: ${amount}\")\n",
        "        else:\n",
        "            print(\"Insufficient balance or invalid amount!\")\n",
        "\n",
        "    def check_balance(self):\n",
        "        print(f\"Current Balance: ${self.__balance}\")\n",
        "\n",
        "# Creating object\n",
        "account = BankAccount(100)  # Initial balance = $100\n",
        "\n",
        "# Performing transactions\n",
        "account.deposit(50)\n",
        "account.withdraw(30)\n",
        "account.check_balance()\n"
      ],
      "metadata": {
        "colab": {
          "base_uri": "https://localhost:8080/"
        },
        "id": "bitJfVYPc70S",
        "outputId": "a5b4584a-e5c5-4c2a-df51-d36b097517e8"
      },
      "execution_count": 10,
      "outputs": [
        {
          "output_type": "stream",
          "name": "stdout",
          "text": [
            "Deposited: $50\n",
            "Withdrawn: $30\n",
            "Current Balance: $120\n"
          ]
        }
      ]
    },
    {
      "cell_type": "markdown",
      "source": [
        "# 6. Demonstrate runtime polymorphism using a method play() in a base class Instrument. Derive classes Guitar and Piano that implement their own version of play()"
      ],
      "metadata": {
        "id": "i5pmVldQdr2F"
      }
    },
    {
      "cell_type": "code",
      "source": [
        "class Instrument:\n",
        "    def play(self):\n",
        "        print(\"Playing an instrument.\")\n",
        "\n",
        "class Guitar(Instrument):\n",
        "    def play(self):\n",
        "        print(\"Strumming the guitar!\")\n",
        "\n",
        "class Piano(Instrument):\n",
        "    def play(self):\n",
        "        print(\"Playing the piano!\")\n",
        "\n",
        "\n",
        "def play_instrument(instrument):\n",
        "    instrument.play()\n",
        "\n",
        "# Creating objects\n",
        "guitar = Guitar()\n",
        "piano = Piano()\n",
        "\n",
        "play_instrument(guitar)\n",
        "play_instrument(piano)\n",
        "\n"
      ],
      "metadata": {
        "colab": {
          "base_uri": "https://localhost:8080/"
        },
        "id": "m73mrjxsdYVo",
        "outputId": "f786bacc-fe02-4abb-ce84-7f68817ae8e5"
      },
      "execution_count": 13,
      "outputs": [
        {
          "output_type": "stream",
          "name": "stdout",
          "text": [
            "Strumming the guitar!\n",
            "Playing the piano!\n"
          ]
        }
      ]
    },
    {
      "cell_type": "markdown",
      "source": [
        "# 7. Create a class MathOperations with a class method add_numbers() to add two numbers and a static method subtract_numbers() to subtract two numbers"
      ],
      "metadata": {
        "id": "qG0_FKdfeRMq"
      }
    },
    {
      "cell_type": "code",
      "source": [
        "class MathOperations:\n",
        "    @classmethod\n",
        "    def add_numbers(cls, a, b):\n",
        "        return a + b\n",
        "\n",
        "    @staticmethod\n",
        "    def subtract_numbers(a, b):\n",
        "        return a - b\n",
        "\n",
        "# Calling methods\n",
        "print(\"Addition:\", MathOperations.add_numbers(10, 5))\n",
        "print(\"Subtraction:\", MathOperations.subtract_numbers(10, 5))\n"
      ],
      "metadata": {
        "colab": {
          "base_uri": "https://localhost:8080/"
        },
        "id": "FILh8g3ZeGuU",
        "outputId": "29aebdc1-f6fd-4cb2-97c9-608a29239209"
      },
      "execution_count": 14,
      "outputs": [
        {
          "output_type": "stream",
          "name": "stdout",
          "text": [
            "Addition: 15\n",
            "Subtraction: 5\n"
          ]
        }
      ]
    },
    {
      "cell_type": "markdown",
      "source": [
        "# 8. Implement a class Person with a class method to count the total number of persons created"
      ],
      "metadata": {
        "id": "Dc2NhdWGeqI6"
      }
    },
    {
      "cell_type": "code",
      "source": [
        "class Person:\n",
        "    count = 0\n",
        "\n",
        "    def __init__(self, name):\n",
        "        self.name = name\n",
        "        Person.count += 1\n",
        "\n",
        "    @classmethod\n",
        "    def total_persons(cls):\n",
        "        return cls.count\n",
        "\n",
        "# Creating objects\n",
        "p1 = Person(\"Aman\")\n",
        "p2 = Person(\"Shyam\")\n",
        "p3 = Person(\"Apoorv\")\n",
        "\n",
        "print(\"Total persons created:\", Person.total_persons())\n"
      ],
      "metadata": {
        "colab": {
          "base_uri": "https://localhost:8080/"
        },
        "id": "tteKGW_henK3",
        "outputId": "fab354f6-1e2a-4c78-ba6d-694ffd87a9b7"
      },
      "execution_count": 15,
      "outputs": [
        {
          "output_type": "stream",
          "name": "stdout",
          "text": [
            "Total persons created: 3\n"
          ]
        }
      ]
    },
    {
      "cell_type": "markdown",
      "source": [
        "# 9.  Write a class Fraction with attributes numerator and denominator. Override the str method to display the fraction as \"numerator/denominator\""
      ],
      "metadata": {
        "id": "0-_AfbiufJNW"
      }
    },
    {
      "cell_type": "code",
      "source": [
        "class Fraction:\n",
        "    def __init__(self, numerator, denominator):\n",
        "        self.numerator = numerator\n",
        "        self.denominator = denominator\n",
        "\n",
        "    def __str__(self):\n",
        "        return f\"{self.numerator}/{self.denominator}\"\n",
        "\n",
        "# Creating objects\n",
        "f1 = Fraction(3, 4)\n",
        "f2 = Fraction(5, 8)\n",
        "\n",
        "print(f1)\n",
        "print(f2)"
      ],
      "metadata": {
        "colab": {
          "base_uri": "https://localhost:8080/"
        },
        "id": "PjOMbH6EfFQc",
        "outputId": "1c149d80-9c8a-440f-ecdc-99f9a4526d17"
      },
      "execution_count": 16,
      "outputs": [
        {
          "output_type": "stream",
          "name": "stdout",
          "text": [
            "3/4\n",
            "5/8\n"
          ]
        }
      ]
    },
    {
      "cell_type": "markdown",
      "source": [
        " # 10. Demonstrate operator overloading by creating a class Vector and overriding the add method to add two vectors"
      ],
      "metadata": {
        "id": "YVFU9xgffiXb"
      }
    },
    {
      "cell_type": "code",
      "source": [
        "class Vector:\n",
        "    def __init__(self, x, y):\n",
        "        self.x = x\n",
        "        self.y = y\n",
        "\n",
        "    def __add__(self, other):\n",
        "        return Vector(self.x + other.x, self.y + other.y)\n",
        "\n",
        "    def __str__(self):\n",
        "        return f\"({self.x}, {self.y})\"\n",
        "\n",
        "# Creating objects\n",
        "v1 = Vector(2, 3)\n",
        "v2 = Vector(4, 5)\n",
        "\n",
        "v3 = v1 + v2\n",
        "\n",
        "print(\"Vector 1:\", v1)\n",
        "print(\"Vector 2:\", v2)\n",
        "print(\"Sum:\", v3)\n"
      ],
      "metadata": {
        "colab": {
          "base_uri": "https://localhost:8080/"
        },
        "id": "C-N36NdUfd1l",
        "outputId": "5dfdbf6b-9904-4b6c-c200-0ef4ef9e3633"
      },
      "execution_count": 17,
      "outputs": [
        {
          "output_type": "stream",
          "name": "stdout",
          "text": [
            "Vector 1: (2, 3)\n",
            "Vector 2: (4, 5)\n",
            "Sum: (6, 8)\n"
          ]
        }
      ]
    },
    {
      "cell_type": "markdown",
      "source": [
        "# 11.  Create a class Person with attributes name and age. Add a method greet() that prints \"Hello, my name is {name} and I am {age} years old.\""
      ],
      "metadata": {
        "id": "ET27u6RKf7-v"
      }
    },
    {
      "cell_type": "code",
      "source": [
        "class Person:\n",
        "    def __init__(self, name, age):\n",
        "        self.name = name\n",
        "        self.age = age\n",
        "\n",
        "    def greet(self):\n",
        "        print(f\"Hello, my name is {self.name} and I am {self.age} years old.\")\n",
        "\n",
        "# Creating object\n",
        "person1 = Person(\"Aman\", 25)\n",
        "\n",
        "person1.greet()\n"
      ],
      "metadata": {
        "colab": {
          "base_uri": "https://localhost:8080/"
        },
        "id": "-qSiMcLdf66u",
        "outputId": "176182cb-9329-457d-ab24-44a04afd952f"
      },
      "execution_count": 19,
      "outputs": [
        {
          "output_type": "stream",
          "name": "stdout",
          "text": [
            "Hello, my name is Aman and I am 25 years old.\n"
          ]
        }
      ]
    },
    {
      "cell_type": "markdown",
      "source": [
        "# 12. Implement a class Student with attributes name and grades. Create a method average_grade() to compute the average of the grades"
      ],
      "metadata": {
        "id": "Suhvmvr4gSko"
      }
    },
    {
      "cell_type": "code",
      "source": [
        "class Student:\n",
        "    def __init__(self, name, grades):\n",
        "        self.name = name\n",
        "        self.grades = grades\n",
        "\n",
        "    def average_grade(self):\n",
        "        return sum(self.grades) / len(self.grades) if self.grades else 0\n",
        "\n",
        "# Creating object\n",
        "student1 = Student(\"Aman\", [85, 90, 78, 92])\n",
        "\n",
        "print(f\"{student1.name}'s Average Grade: {student1.average_grade():.2f}\")\n",
        "\n"
      ],
      "metadata": {
        "colab": {
          "base_uri": "https://localhost:8080/"
        },
        "id": "aIBIf9XngKhI",
        "outputId": "b45b0fad-4283-4dc5-f2eb-df137cea3fb6"
      },
      "execution_count": 21,
      "outputs": [
        {
          "output_type": "stream",
          "name": "stdout",
          "text": [
            "Aman's Average Grade: 86.25\n"
          ]
        }
      ]
    },
    {
      "cell_type": "markdown",
      "source": [
        "# 13. Create a class Rectangle with methods set_dimensions() to set the dimensions and area() to calculate the area"
      ],
      "metadata": {
        "id": "DhskHmsNgudK"
      }
    },
    {
      "cell_type": "code",
      "source": [
        "class Rectangle:\n",
        "    def __init__(self):\n",
        "        self.length = 0\n",
        "        self.width = 0\n",
        "\n",
        "    def set_dimensions(self, length, width):\n",
        "        self.length = length\n",
        "        self.width = width\n",
        "\n",
        "    def area(self):\n",
        "        return self.length * self.width\n",
        "\n",
        "# Creating object\n",
        "rect = Rectangle()\n",
        "\n",
        "rect.set_dimensions(5, 10)\n",
        "\n",
        "print(\"Rectangle Area:\", rect.area())"
      ],
      "metadata": {
        "colab": {
          "base_uri": "https://localhost:8080/"
        },
        "id": "noBvFtfVgpST",
        "outputId": "9a089ee2-8dca-42b4-9f57-13773fdeed34"
      },
      "execution_count": 22,
      "outputs": [
        {
          "output_type": "stream",
          "name": "stdout",
          "text": [
            "Rectangle Area: 50\n"
          ]
        }
      ]
    },
    {
      "cell_type": "markdown",
      "source": [
        "# 14. Create a class Employee with a method calculate_salary() that computes the salary based on hours worked and hourly rate. Create a derived class Manager that adds a bonus to the salary"
      ],
      "metadata": {
        "id": "vEWLEmNkg_ip"
      }
    },
    {
      "cell_type": "code",
      "source": [
        "class Employee:\n",
        "    def __init__(self, name, hours_worked, hourly_rate):\n",
        "        self.name = name\n",
        "        self.hours_worked = hours_worked\n",
        "        self.hourly_rate = hourly_rate\n",
        "\n",
        "    def calculate_salary(self):\n",
        "        return self.hours_worked * self.hourly_rate\n",
        "\n",
        "class Manager(Employee):\n",
        "    def __init__(self, name, hours_worked, hourly_rate, bonus):\n",
        "        super().__init__(name, hours_worked, hourly_rate)\n",
        "        self.bonus = bonus\n",
        "\n",
        "    def calculate_salary(self):\n",
        "        return super().calculate_salary() + self.bonus\n",
        "\n",
        "# Creating object\n",
        "emp = Employee(\"Ram\", 40, 20)\n",
        "print(f\"{emp.name}'s Salary: ${emp.calculate_salary()}\")\n",
        "\n",
        "# Creating object\n",
        "mgr = Manager(\"Shyam\", 40, 30, 500)\n",
        "print(f\"{mgr.name}'s Salary: ${mgr.calculate_salary()}\")\n",
        "\n",
        "\n"
      ],
      "metadata": {
        "colab": {
          "base_uri": "https://localhost:8080/"
        },
        "id": "3EJFmoS8g9_C",
        "outputId": "c70f475d-9234-4df9-b0ab-f3ec0b3fa071"
      },
      "execution_count": 23,
      "outputs": [
        {
          "output_type": "stream",
          "name": "stdout",
          "text": [
            "Ram's Salary: $800\n",
            "Shyam's Salary: $1700\n"
          ]
        }
      ]
    },
    {
      "cell_type": "markdown",
      "source": [
        "# 15.  Create a class Product with attributes name, price, and quantity. Implement a method total_price() that calculates the total price of the product"
      ],
      "metadata": {
        "id": "ZkoLyUGZhlCN"
      }
    },
    {
      "cell_type": "code",
      "source": [
        "class Product:\n",
        "    def __init__(self, name, price, quantity):\n",
        "        self.name = name\n",
        "        self.price = price\n",
        "        self.quantity = quantity\n",
        "\n",
        "    def total_price(self):\n",
        "        return self.price * self.quantity\n",
        "\n",
        "# Creating object\n",
        "product1 = Product(\"Laptop\", 800, 2)\n",
        "\n",
        "print(f\"Total price for {product1.quantity} {product1.name}(s): ${product1.total_price()}\")\n"
      ],
      "metadata": {
        "colab": {
          "base_uri": "https://localhost:8080/"
        },
        "id": "mzYu8jUdhf74",
        "outputId": "706a448c-6848-46d5-ad30-a2e7b7de119d"
      },
      "execution_count": 24,
      "outputs": [
        {
          "output_type": "stream",
          "name": "stdout",
          "text": [
            "Total price for 2 Laptop(s): $1600\n"
          ]
        }
      ]
    },
    {
      "cell_type": "markdown",
      "source": [
        "# 16.  Create a class Animal with an abstract method sound(). Create two derived classes Cow and Sheep that implement the sound() method"
      ],
      "metadata": {
        "id": "4mW7f8mLh634"
      }
    },
    {
      "cell_type": "code",
      "source": [
        "from abc import ABC, abstractmethod\n",
        "\n",
        "class Animal(ABC):\n",
        "    @abstractmethod\n",
        "    def sound(self):\n",
        "        pass\n",
        "\n",
        "class Cow(Animal):\n",
        "    def sound(self):\n",
        "        print(\"Cow says: Moo!\")\n",
        "\n",
        "class Sheep(Animal):\n",
        "    def sound(self):\n",
        "        print(\"Sheep says: Baa!\")\n",
        "\n",
        "# Creating objects\n",
        "cow = Cow()\n",
        "sheep = Sheep()\n",
        "\n",
        "cow.sound()\n",
        "sheep.sound()\n"
      ],
      "metadata": {
        "colab": {
          "base_uri": "https://localhost:8080/"
        },
        "id": "VTw36qcbh1GK",
        "outputId": "0d003031-7dca-4830-ca27-b15f51113a1a"
      },
      "execution_count": 25,
      "outputs": [
        {
          "output_type": "stream",
          "name": "stdout",
          "text": [
            "Cow says: Moo!\n",
            "Sheep says: Baa!\n"
          ]
        }
      ]
    },
    {
      "cell_type": "markdown",
      "source": [
        "# 17. Create a class Book with attributes title, author, and year_published. Add a method get_book_info() that returns a formatted string with the book's details"
      ],
      "metadata": {
        "id": "evEOEs39iQwG"
      }
    },
    {
      "cell_type": "code",
      "source": [
        "class Book:\n",
        "    def __init__(self, title, author, year_published):\n",
        "        self.title = title\n",
        "        self.author = author\n",
        "        self.year_published = year_published\n",
        "\n",
        "    def get_book_info(self):\n",
        "        return f\"'{self.title}' by {self.author}, published in {self.year_published}\"\n",
        "\n",
        "# Creating object\n",
        "book1 = Book(\"The God of Small Things\", \"Arundhati Roy\", 1997)\n",
        "\n",
        "print(book1.get_book_info())\n"
      ],
      "metadata": {
        "colab": {
          "base_uri": "https://localhost:8080/"
        },
        "id": "yzWmDeDciO9R",
        "outputId": "63e784bc-f5d7-4e16-ffdb-097413238052"
      },
      "execution_count": 27,
      "outputs": [
        {
          "output_type": "stream",
          "name": "stdout",
          "text": [
            "'The God of Small Things' by Arundhati Roy, published in 1997\n"
          ]
        }
      ]
    },
    {
      "cell_type": "markdown",
      "source": [
        "#18.  Create a class House with attributes address and price. Create a derived class Mansion that adds an attribute number_of_rooms"
      ],
      "metadata": {
        "id": "8eSqjUsxiyxW"
      }
    },
    {
      "cell_type": "code",
      "source": [
        "class House:\n",
        "    def __init__(self, address, price):\n",
        "        self.address = address\n",
        "        self.price = price\n",
        "\n",
        "    def get_info(self):\n",
        "        return f\"House at {self.address}, priced at ₹{self.price}\"\n",
        "\n",
        "class Mansion(House):\n",
        "    def __init__(self, address, price, number_of_rooms):\n",
        "        super().__init__(address, price)\n",
        "        self.number_of_rooms = number_of_rooms\n",
        "\n",
        "    def get_info(self):\n",
        "        return f\"Mansion at {self.address}, priced at ₹{self.price}, with {self.number_of_rooms} rooms\"\n",
        "\n",
        "# Creating objects\n",
        "house1 = House(\"Mumbai, India\", 5000000)\n",
        "mansion1 = Mansion(\"Delhi, India\", 50000000, 10)\n",
        "\n",
        "\n",
        "print(house1.get_info())\n",
        "print(mansion1.get_info())\n"
      ],
      "metadata": {
        "colab": {
          "base_uri": "https://localhost:8080/"
        },
        "id": "FSjhSGQgidJ5",
        "outputId": "aad99cd0-d90c-43eb-b96c-59cfaad5fd2f"
      },
      "execution_count": 28,
      "outputs": [
        {
          "output_type": "stream",
          "name": "stdout",
          "text": [
            "House at Mumbai, India, priced at ₹5000000\n",
            "Mansion at Delhi, India, priced at ₹50000000, with 10 rooms\n"
          ]
        }
      ]
    },
    {
      "cell_type": "code",
      "source": [],
      "metadata": {
        "id": "_HMM9hhhjIrm"
      },
      "execution_count": null,
      "outputs": []
    }
  ]
}